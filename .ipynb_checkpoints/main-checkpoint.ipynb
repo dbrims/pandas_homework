{
 "cells": [
  {
   "cell_type": "code",
   "execution_count": 3,
   "metadata": {},
   "outputs": [],
   "source": [
    "import pandas as pd\n",
    "from pathlib import Path\n",
    "import datetime\n",
    "from yahoofinancials import YahooFinancials\n",
    "import numpy as np\n",
    "import matplotlib.pyplot as plt\n"
   ]
  },
  {
   "cell_type": "code",
   "execution_count": null,
   "metadata": {},
   "outputs": [],
   "source": [
    "Tickers=[MRNA, GILD, REGN, DVAX, BNTX, CYDY, INO, JNJ, VXRT, TBIO, NVAX\n",
    "for ticker in Tickers:\n",
    "         \n",
    "yahoo_financials = YahooFinancials('TSLA')\n",
    "\n",
    "data = yahoo_financials.get_historical_price_data(start_date='2000-01-01', end_date='2019-12-31',time_interval='daily')\n",
    "\n",
    "tsla_df1 = pd.DataFrame(data['TSLA']['prices'])\n",
    "tsla_df1.head()\n",
    "\n",
    "\n",
    "\n",
    "\n",
    "\n",
    "\n",
    "\n",
    "\n",
    "Let’s say our portfolio is made up of 50% Apple stock, 20% Microsoft stock, 20% Amazon stock and 10% Yahoo. We can calculate the portfolio expected return and volatility as follows:\n",
    "\n",
    "#list of stocks in portfolio\n",
    "#NOTE THAT THESE MUST BE ENTERED IN ALPHABETICAL ORDER FOR THE RESULTS TO BE CORRECT!!!\n",
    "stocks = ['AAPL','AMZN','MSFT','YHOO']\n",
    "\n",
    "#download daily price data for each of the stocks in the portfolio\n",
    "data = web.DataReader(stocks,data_source='yahoo',start='01/01/2010')['Adj Close']\n",
    "\n",
    "data.sort_index(inplace=True)\n",
    "\n",
    "#convert daily stock prices into daily returns\n",
    "returns = data.pct_change()\n",
    "\n",
    "#calculate mean daily return and covariance of daily returns\n",
    "mean_daily_returns = returns.mean()\n",
    "cov_matrix = returns.cov()\n",
    "\n",
    "#set array holding portfolio weights of each stock\n",
    "weights = np.asarray([0.5,0.2,0.2,0.1])\n",
    "\n",
    "#calculate annualised portfolio return\n",
    "portfolio_return = round(np.sum(mean_daily_returns * weights) * 252,2)\n",
    "#calculate annualised portfolio volatility\n",
    "portfolio_std_dev = round(np.sqrt(np.dot(weights.T,np.dot(cov_matrix, weights))) * np.sqrt(252),2)\n",
    "\n",
    "print('Portfolio expected annualised return is {} and volatility is {}').format(portfolio_return,portfolio_std_dev)\n",
    "\n",
    "Which gets us:\n",
    "\n"
   ]
  }
 ],
 "metadata": {
  "kernelspec": {
   "display_name": "Python 3",
   "language": "python",
   "name": "python3"
  },
  "language_info": {
   "codemirror_mode": {
    "name": "ipython",
    "version": 3
   },
   "file_extension": ".py",
   "mimetype": "text/x-python",
   "name": "python",
   "nbconvert_exporter": "python",
   "pygments_lexer": "ipython3",
   "version": "3.7.7"
  }
 },
 "nbformat": 4,
 "nbformat_minor": 4
}
